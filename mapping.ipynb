{
 "cells": [
  {
   "cell_type": "code",
   "execution_count": 4,
   "id": "b07b4b42",
   "metadata": {},
   "outputs": [],
   "source": [
    "!pip install usaddress -q"
   ]
  },
  {
   "cell_type": "code",
   "execution_count": 1,
   "id": "bb8466e4",
   "metadata": {},
   "outputs": [],
   "source": [
    "import requests\n",
    "import json\n",
    "import spacy\n",
    "import re\n",
    "import usaddress\n",
    "from geopy.distance import geodesic\n",
    "from geopy.geocoders import Nominatim\n",
    "from geopy.exc import GeocoderServiceError\n",
    "import time\n",
    "from functools import partial"
   ]
  },
  {
   "cell_type": "code",
   "execution_count": 17,
   "id": "d40218f4",
   "metadata": {},
   "outputs": [],
   "source": [
    "api_key = \"api-key-here\""
   ]
  },
  {
   "cell_type": "code",
   "execution_count": 5,
   "id": "810e1ab4",
   "metadata": {},
   "outputs": [],
   "source": [
    "def get_complete_address(partial_address, api_key):\n",
    "    url = f\"https://maps.googleapis.com/maps/api/geocode/json?address={partial_address}&key={api_key}\"\n",
    "    response = requests.get(url)\n",
    "    data = response.json()\n",
    "\n",
    "    if data['status'] == 'OK':\n",
    "        result = data['results'][0]\n",
    "        address_components = result['address_components']\n",
    "\n",
    "        # Extract relevant address components\n",
    "        street_number = None\n",
    "        route = None\n",
    "        city = None\n",
    "        state = None\n",
    "\n",
    "        for component in address_components:\n",
    "            types = component['types']\n",
    "\n",
    "            if 'street_number' in types:\n",
    "                street_number = component['long_name']\n",
    "\n",
    "            if 'route' in types:\n",
    "                route = component['long_name']\n",
    "\n",
    "            if 'locality' in types:\n",
    "                city = component['long_name']\n",
    "\n",
    "            if 'administrative_area_level_1' in types:\n",
    "                state = component['short_name']\n",
    "\n",
    "        geometry = result['geometry']\n",
    "        location = geometry['location']\n",
    "        lat = location['lat']\n",
    "        lng = location['lng']\n",
    "        \n",
    "        address = {\n",
    "            'street_number': street_number,\n",
    "            'route': route,\n",
    "            'city': city,\n",
    "            'state': state,\n",
    "            'latitude': lat,\n",
    "            'longitude': lng\n",
    "        }\n",
    "\n",
    "        return address\n",
    "\n",
    "    return None"
   ]
  },
  {
   "cell_type": "code",
   "execution_count": 6,
   "id": "f1dfa00c",
   "metadata": {},
   "outputs": [],
   "source": [
    "def update_places_with_coordinates(places, api_key):\n",
    "    for place in places:\n",
    "        store_info = place['store_info']\n",
    "        complete_address = get_complete_address(store_info, api_key)\n",
    "\n",
    "        if complete_address:\n",
    "            place['latitude'] = complete_address['latitude']\n",
    "            place['longitude'] = complete_address['longitude']\n",
    "\n",
    "    return places"
   ]
  },
  {
   "cell_type": "code",
   "execution_count": 31,
   "id": "34b37cea",
   "metadata": {},
   "outputs": [],
   "source": [
    "def find_closest_location(user_address, places):\n",
    "    geolocator = Nominatim(user_agent=\"closest_location_app\")\n",
    "    geocode = partial(geolocator.geocode, language=\"es\")\n",
    "    location = geocode(user_address)\n",
    "\n",
    "    closest_place = None\n",
    "    min_distance = float('inf')\n",
    "\n",
    "    for place in places:\n",
    "        place_address = place['store_info']\n",
    "        # place_location = geolocator.geocode(place_address)\n",
    "        place_location = geocode_address_with_retry(geolocator, place_address)\n",
    "\n",
    "        if place_location:\n",
    "            distance = geodesic((location.latitude, location.longitude),\n",
    "                                (place_location.latitude, place_location.longitude)).miles\n",
    "\n",
    "            if distance < min_distance:\n",
    "                min_distance = distance\n",
    "                closest_place = place\n",
    "\n",
    "    return closest_place"
   ]
  },
  {
   "cell_type": "code",
   "execution_count": 13,
   "id": "b333eba9",
   "metadata": {},
   "outputs": [],
   "source": [
    "def add_coords_to_json(places):\n",
    "    with open('us_locations_json.txt') as file:\n",
    "        data = json.load(file)\n",
    "\n",
    "    for state in data['states']:\n",
    "        for store in state['stores']:\n",
    "            places.append(store)\n",
    "\n",
    "    # Update places with coordinates\n",
    "    updated_places = update_places_with_coordinates(places, api_key)\n",
    "\n",
    "    # Update the original data with the updated places\n",
    "    # for i, state in enumerate(data['states']):\n",
    "    #     state['stores'] = updated_places[i * len(state['stores']): (i + 1) * len(state['stores'])]\n",
    "\n",
    "    index = 0\n",
    "    for state in data['states']:\n",
    "        num_stores = len(state['stores'])\n",
    "        state['stores'] = updated_places[index : index + num_stores]\n",
    "        index += num_stores\n",
    "\n",
    "    # Save the updated data back to the JSON file\n",
    "    with open('us_locations_json.txt', 'w') as file:\n",
    "        json.dump(data, file, indent=4)\n",
    "\n",
    "    print(\"Coordinates added and JSON file updated successfully.\")"
   ]
  },
  {
   "cell_type": "code",
   "execution_count": 14,
   "id": "544eaf6e",
   "metadata": {},
   "outputs": [],
   "source": [
    "def geocode_address_with_retry(geolocator, address, max_retries=3):\n",
    "    retries = 0\n",
    "    while retries < max_retries:\n",
    "        try:\n",
    "            location = geolocator.geocode(address)\n",
    "            return location\n",
    "        except GeocoderServiceError as e:\n",
    "            print(f\"Geocoding service error: {e}. Retrying in 1 second...\")\n",
    "            time.sleep(1)\n",
    "            retries += 1\n",
    "\n",
    "    print(f\"Failed to geocode address: {address}\")\n",
    "    return None"
   ]
  },
  {
   "cell_type": "code",
   "execution_count": 19,
   "id": "17eae5fa",
   "metadata": {},
   "outputs": [
    {
     "name": "stdout",
     "output_type": "stream",
     "text": [
      "Coordinates added and JSON file updated successfully.\n"
     ]
    }
   ],
   "source": [
    "places = []\n",
    "add_coords_to_json(places)"
   ]
  },
  {
   "cell_type": "code",
   "execution_count": 50,
   "id": "3fe51505",
   "metadata": {},
   "outputs": [],
   "source": [
    "user_input = \"I live in Boston and I would like to know where the nearest store is\"\n",
    "complete_address = get_complete_address(user_input, api_key)"
   ]
  },
  {
   "cell_type": "code",
   "execution_count": 43,
   "id": "a904fae7",
   "metadata": {},
   "outputs": [],
   "source": [
    "if complete_address:\n",
    "    closest_place = find_closest_location(complete_address, places)\n",
    "else:\n",
    "    print(\"No valid address found.\")"
   ]
  },
  {
   "cell_type": "code",
   "execution_count": 46,
   "id": "9b023461",
   "metadata": {},
   "outputs": [
    {
     "name": "stdout",
     "output_type": "stream",
     "text": [
      "The nearest store to you is located at 815 Boylston Street in Boston, MA 02116.\n"
     ]
    }
   ],
   "source": [
    "store_info_value = closest_place['store_info']\n",
    "lines = store_info_value.split('\\n')\n",
    "first_line = lines[0]\n",
    "second_line = lines[1]\n",
    "output = f\"The nearest store to you is located at {first_line} in {second_line}.\"\n",
    "print(output)"
   ]
  }
 ],
 "metadata": {
  "kernelspec": {
   "display_name": "Python 3 (ipykernel)",
   "language": "python",
   "name": "python3"
  },
  "language_info": {
   "codemirror_mode": {
    "name": "ipython",
    "version": 3
   },
   "file_extension": ".py",
   "mimetype": "text/x-python",
   "name": "python",
   "nbconvert_exporter": "python",
   "pygments_lexer": "ipython3",
   "version": "3.10.9"
  }
 },
 "nbformat": 4,
 "nbformat_minor": 5
}
